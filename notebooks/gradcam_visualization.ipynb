{
 "cells": [
  {
   "cell_type": "code",
   "execution_count": 3,
   "id": "952b8f0d-9029-4445-a2de-096fbfa7ff20",
   "metadata": {},
   "outputs": [
    {
     "name": "stderr",
     "output_type": "stream",
     "text": [
      "/tmp/ipykernel_47288/1938813912.py:23: FutureWarning: You are using `torch.load` with `weights_only=False` (the current default value), which uses the default pickle module implicitly. It is possible to construct malicious pickle data which will execute arbitrary code during unpickling (See https://github.com/pytorch/pytorch/blob/main/SECURITY.md#untrusted-models for more details). In a future release, the default value for `weights_only` will be flipped to `True`. This limits the functions that could be executed during unpickling. Arbitrary objects will no longer be allowed to be loaded via this mode unless they are explicitly allowlisted by the user via `torch.serialization.add_safe_globals`. We recommend you start setting `weights_only=True` for any use case where you don't have full control of the loaded file. Please open an issue on GitHub for any issues related to this experimental feature.\n",
      "  model.load_state_dict(torch.load(MODEL_PATH, map_location=DEVICE))\n"
     ]
    },
    {
     "name": "stdout",
     "output_type": "stream",
     "text": [
      "✅ Grad-CAM visualization complete. Saved to: ./gradcam_outputs\n"
     ]
    }
   ],
   "source": [
    "import torch\n",
    "import torch.nn.functional as F\n",
    "from torchvision import models, transforms\n",
    "from torchvision.datasets import ImageFolder\n",
    "from torchvision.utils import save_image\n",
    "from PIL import Image\n",
    "import numpy as np\n",
    "import matplotlib.pyplot as plt\n",
    "import cv2\n",
    "import os\n",
    "\n",
    "DATA_DIR = '/root/Aerial_Landscapes'\n",
    "MODEL_PATH = './efficientnet_b0.pth'\n",
    "SAVE_DIR = './gradcam_outputs'\n",
    "os.makedirs(SAVE_DIR, exist_ok=True)\n",
    "NUM_CLASSES = 15\n",
    "DEVICE = torch.device('cuda' if torch.cuda.is_available() else 'cpu')\n",
    "\n",
    "model = models.efficientnet_b0(weights='IMAGENET1K_V1')\n",
    "model.classifier[1] = torch.nn.Linear(model.classifier[1].in_features, NUM_CLASSES)\n",
    "model.load_state_dict(torch.load(MODEL_PATH, map_location=DEVICE))\n",
    "model = model.to(DEVICE)\n",
    "model.eval()\n",
    "\n",
    "gradients = None\n",
    "activations = None\n",
    "\n",
    "def save_gradients_hook(module, grad_input, grad_output):\n",
    "    global gradients\n",
    "    gradients = grad_output[0]\n",
    "\n",
    "def save_activations_hook(module, input, output):\n",
    "    global activations\n",
    "    activations = output\n",
    "\n",
    "target_layer = model.features[-1]\n",
    "target_layer.register_forward_hook(save_activations_hook)\n",
    "target_layer.register_backward_hook(save_gradients_hook)\n",
    "\n",
    "transform = transforms.Compose([\n",
    "    transforms.Resize((224, 224)),\n",
    "    transforms.ToTensor(),\n",
    "])\n",
    "\n",
    "def generate_gradcam(image_tensor, class_idx):\n",
    "    image_tensor = image_tensor.unsqueeze(0).to(DEVICE)\n",
    "    output = model(image_tensor)\n",
    "    score = output[0, class_idx]\n",
    "    model.zero_grad()\n",
    "    score.backward()\n",
    "\n",
    "    pooled_gradients = torch.mean(gradients, dim=[0, 2, 3])\n",
    "    activation = activations[0]\n",
    "    for i in range(activation.shape[0]):\n",
    "        activation[i, :, :] *= pooled_gradients[i]\n",
    "\n",
    "    heatmap = torch.mean(activation, dim=0).cpu().detach().numpy()\n",
    "    heatmap = np.maximum(heatmap, 0)\n",
    "    heatmap /= np.max(heatmap)\n",
    "    return heatmap\n",
    "\n",
    "dataset = ImageFolder(DATA_DIR, transform=transform)\n",
    "class_names = dataset.classes\n",
    "loader = torch.utils.data.DataLoader(dataset, batch_size=1, shuffle=True)\n",
    "\n",
    "count = 0\n",
    "for img, label in loader:\n",
    "    if count >= 15:\n",
    "        break\n",
    "    img = img.to(DEVICE)\n",
    "    output = model(img)\n",
    "    pred_class = output.argmax(dim=1).item()\n",
    "    heatmap = generate_gradcam(img[0], pred_class)\n",
    "\n",
    "    # Convert to numpy\n",
    "    img_np = img[0].permute(1, 2, 0).cpu().numpy()\n",
    "    img_np = (img_np - img_np.min()) / (img_np.max() - img_np.min())\n",
    "\n",
    "    heatmap_resized = cv2.resize(heatmap, (224, 224))\n",
    "    heatmap_rgb = cv2.applyColorMap(np.uint8(255 * heatmap_resized), cv2.COLORMAP_JET)\n",
    "    superimposed_img = heatmap_rgb / 255 * 0.4 + img_np\n",
    "\n",
    "    # Save image\n",
    "    out_path = os.path.join(SAVE_DIR, f\"gradcam_{count}_pred-{class_names[pred_class]}_true-{class_names[label.item()]}.png\")\n",
    "    superimposed_img = np.clip(superimposed_img, 0, 1)\n",
    "    plt.imsave(out_path, superimposed_img)\n",
    "    count += 1\n",
    "\n",
    "print(\"✅ Grad-CAM visualization complete. Saved to:\", SAVE_DIR)"
   ]
  },
  {
   "cell_type": "code",
   "execution_count": null,
   "id": "834be38c-6b2d-4d54-803f-37b17f0fe047",
   "metadata": {},
   "outputs": [],
   "source": []
  }
 ],
 "metadata": {
  "kernelspec": {
   "display_name": "Python 3 (ipykernel)",
   "language": "python",
   "name": "python3"
  },
  "language_info": {
   "codemirror_mode": {
    "name": "ipython",
    "version": 3
   },
   "file_extension": ".py",
   "mimetype": "text/x-python",
   "name": "python",
   "nbconvert_exporter": "python",
   "pygments_lexer": "ipython3",
   "version": "3.12.3"
  }
 },
 "nbformat": 4,
 "nbformat_minor": 5
}
